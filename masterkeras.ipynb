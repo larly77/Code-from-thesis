{
  "nbformat": 4,
  "nbformat_minor": 0,
  "metadata": {
    "colab": {
      "name": "masterkeras.ipynb",
      "version": "0.3.2",
      "provenance": [],
      "collapsed_sections": []
    },
    "kernelspec": {
      "name": "python3",
      "display_name": "Python 3"
    },
    "accelerator": "GPU"
  },
  "cells": [
    {
      "cell_type": "code",
      "metadata": {
        "id": "NZyjfTmI3KoU",
        "colab_type": "code",
        "outputId": "a2deb4bf-cd75-42b5-c6c7-8be8b6a3f3ef",
        "colab": {
          "base_uri": "https://localhost:8080/",
          "height": 35
        }
      },
      "source": [
        "#imports\n",
        "\n",
        "import keras\n",
        "keras.__version__\n",
        "import pandas as pd\n",
        "import copy\n",
        "import numpy as np\n",
        "from sklearn.model_selection import train_test_split\n",
        "\n",
        "import matplotlib.pyplot as plt\n",
        "%matplotlib inline\n",
        "\n",
        "from keras.models import Sequential \n",
        "from keras.layers import Dense\n",
        "\n",
        "from sklearn.linear_model import LinearRegression\n",
        "from sklearn.preprocessing import StandardScaler, PolynomialFeatures\n",
        "from sklearn.model_selection import cross_val_score\n",
        "\n"
      ],
      "execution_count": 0,
      "outputs": [
        {
          "output_type": "stream",
          "text": [
            "Using TensorFlow backend.\n"
          ],
          "name": "stderr"
        }
      ]
    },
    {
      "cell_type": "code",
      "metadata": {
        "id": "kq26RjC_ChfO",
        "colab_type": "code",
        "colab": {}
      },
      "source": [
        "!pip install -q xlrd"
      ],
      "execution_count": 0,
      "outputs": []
    },
    {
      "cell_type": "code",
      "metadata": {
        "id": "gR02C8cUCZh3",
        "colab_type": "code",
        "colab": {}
      },
      "source": [
        "from google.colab import drive\n",
        "drive.mount('/content/drive')"
      ],
      "execution_count": 0,
      "outputs": []
    },
    {
      "cell_type": "code",
      "metadata": {
        "id": "VdGX7wJZ3On3",
        "colab_type": "code",
        "colab": {}
      },
      "source": [
        "#uploading excel file with data\n",
        "\n",
        "\n",
        "dfferdig = pd.read_excel(\"drive/My Drive/DAT300/fullgraminor2018.xlsx\", sheet_name=0)\n",
        "\n",
        "#df = pd.read_excel(\"drive/My Drive/DAT300/combinedfirstwest(varhvete-b).xlsx\", sheet_name=0)\n",
        "#df2 = pd.read_excel(\"drive/My Drive/DAT300/combinedfirsteast(varhvete-b).xlsx\", sheet_name=1)\n",
        "#df = pd.read_excel(\"drive/My Drive/DAT300/combinedseconwest.xlsx\", sheet_name='13-07-18')\n",
        "#df2 = pd.read_excel(\"drive/My Drive/DAT300/combinedsecondeast(masbasis).xlsx\", sheet_name='13-07-18')\n",
        "#!ls \"drive/My Drive/DAT300/combinedfirsteast(varhvete-b).xlsx\"\n",
        "#dfferdig = df.append(df2, ignore_index=False)\n",
        "dfferdig.set_index('26-06-18Unnamed: 0', inplace=True)\n",
        "dfferdig.dropna(axis=0, subset=['26-06-18GrainYield'], inplace=True)\n",
        "\n",
        "#dfferdig= pd.read_excel(\"drive/My Drive/DAT300/fullfirst.xlsx\")\n",
        "#dfferdig.index.is_unique\n",
        "#dfferdig = dfferdig[dfferdig.GrainYield != -9]\n",
        "\n"
      ],
      "execution_count": 0,
      "outputs": []
    },
    {
      "cell_type": "code",
      "metadata": {
        "id": "TtmkcHBo_PGX",
        "colab_type": "code",
        "colab": {}
      },
      "source": [
        "#Setting the features used for the deep learning, mostly spectral values from different dates\n",
        "\n",
        "#features = ['26-06-18_bluemedian', '26-06-18_greenmedian','26-06-18_redmedian', '26-06-18_ndvimedian', \n",
        "#          '26-06-18_nirmedian', '26-06-18_rededgemedian', '26-06-18_mtci', '26-06-18_evi', 'MAT',\n",
        "#          '02-07-18_bluemedian', '02-07-18_greenmedian','02-07-18_redmedian', '02-07-18_ndvimedian', \n",
        "#          '02-07-18_nirmedian', '02-07-18_rededgemedian', '02-07-18_mtci', '02-07-18_evi',\n",
        "#          '19-07-18_bluemedian', '19-07-18_greenmedian','19-07-18_redmedian', '19-07-18_ndvimedian', \n",
        "#          '19-07-18_nirmedian', '19-07-18_rededgemedian', '19-07-18_mtci', '19-07-18_evi', \n",
        "features = ['26-06-18_bluemedian', '26-06-18_redmedian', '26-06-18_mtci', 'MAT',\t\n",
        "       '02-07-18_mtci', '02-07-18_evi', '19-07-18_bluemedian',\t\n",
        "       '19-07-18_greenmedian', '19-07-18_redmedian', '19-07-18_nirmedian',\t\n",
        "       '19-07-18_mtci']\n",
        "\n",
        "\n",
        "\n",
        "df_x = dfferdig[features]\n",
        "df_y = dfferdig['26-06-18GrainYield']\n",
        "\n"
      ],
      "execution_count": 0,
      "outputs": []
    },
    {
      "cell_type": "code",
      "metadata": {
        "id": "NSwV2eqLJoRi",
        "colab_type": "code",
        "outputId": "d329a259-1c65-4a1f-ec76-38178a1ff225",
        "colab": {
          "base_uri": "https://localhost:8080/",
          "height": 35
        }
      },
      "source": [
        "df_x.shape"
      ],
      "execution_count": 0,
      "outputs": [
        {
          "output_type": "execute_result",
          "data": {
            "text/plain": [
              "(599, 11)"
            ]
          },
          "metadata": {
            "tags": []
          },
          "execution_count": 13
        }
      ]
    },
    {
      "cell_type": "code",
      "metadata": {
        "id": "-_qlcD6NCJhJ",
        "colab_type": "code",
        "outputId": "3294afeb-a13c-44e9-9373-10b7903c268c",
        "colab": {
          "base_uri": "https://localhost:8080/",
          "height": 337
        }
      },
      "source": [
        "#Scaling the data\n",
        "\n",
        "scaler= StandardScaler()\n",
        "X_train, X_test, y_train, y_test = train_test_split(\n",
        "        df_x, df_y, test_size=0.3, random_state=1)\n",
        "X_train.iloc[:, :] = scaler.fit_transform(X_train)\n",
        "X_test.iloc[:, :] = scaler.transform(X_test)\n"
      ],
      "execution_count": 0,
      "outputs": [
        {
          "output_type": "stream",
          "text": [
            "/usr/local/lib/python3.6/dist-packages/sklearn/preprocessing/data.py:645: DataConversionWarning: Data with input dtype int64, float64 were all converted to float64 by StandardScaler.\n",
            "  return self.partial_fit(X, y)\n",
            "/usr/local/lib/python3.6/dist-packages/sklearn/base.py:464: DataConversionWarning: Data with input dtype int64, float64 were all converted to float64 by StandardScaler.\n",
            "  return self.fit(X, **fit_params).transform(X)\n",
            "/usr/local/lib/python3.6/dist-packages/pandas/core/indexing.py:543: SettingWithCopyWarning: \n",
            "A value is trying to be set on a copy of a slice from a DataFrame.\n",
            "Try using .loc[row_indexer,col_indexer] = value instead\n",
            "\n",
            "See the caveats in the documentation: http://pandas.pydata.org/pandas-docs/stable/indexing.html#indexing-view-versus-copy\n",
            "  self.obj[item] = s\n",
            "/usr/local/lib/python3.6/dist-packages/ipykernel_launcher.py:5: DataConversionWarning: Data with input dtype int64, float64 were all converted to float64 by StandardScaler.\n",
            "  \"\"\"\n",
            "/usr/local/lib/python3.6/dist-packages/pandas/core/indexing.py:543: SettingWithCopyWarning: \n",
            "A value is trying to be set on a copy of a slice from a DataFrame.\n",
            "Try using .loc[row_indexer,col_indexer] = value instead\n",
            "\n",
            "See the caveats in the documentation: http://pandas.pydata.org/pandas-docs/stable/indexing.html#indexing-view-versus-copy\n",
            "  self.obj[item] = s\n"
          ],
          "name": "stderr"
        }
      ]
    },
    {
      "cell_type": "code",
      "metadata": {
        "id": "V1l40fcBDwdT",
        "colab_type": "code",
        "colab": {}
      },
      "source": [
        "#Function for creating model\n",
        "\n",
        "def build_model(act, lay, nur):\n",
        "    \n",
        "    # Input: \n",
        "    #     act: which activations function, denoted by 'name_of_activation' i.e. 'relu'\n",
        "    #     lay: integer, number of layers \n",
        "    #     nur: number of neurons within each layer. possibly we would want a different number of neurons per layer within a model. \n",
        "    #          but for now we keep the same number of neurons for all layers\n",
        "    \n",
        "    model = Sequential()\n",
        "    model.add(Dense(nur, activation=act, input_shape=(X_train.shape[1],)))\n",
        "    n=1\n",
        "    while n <= lay:\n",
        "      model.add(Dense(nur, activation=act))\n",
        "      n += 1\n",
        "    \n",
        "    model.add(Dense(1, activation=act))\n",
        "    model.compile(optimizer='rmsprop', loss='mse', metrics=['mae'])\n",
        "    \n",
        "    return model"
      ],
      "execution_count": 0,
      "outputs": []
    },
    {
      "cell_type": "code",
      "metadata": {
        "id": "b6cfzcbEEPaw",
        "colab_type": "code",
        "colab": {}
      },
      "source": [
        "#K-fold function to train the model\n",
        "\n",
        "def K_fold(X_train, y_train, model_activation, model_layers, model_neurons, k, num_epochs, history=False):\n",
        "  \"\"\"Custom function for K-fold Cross validation for both keras \n",
        "  Inspired by the Colab notebook 'DAT300 - 05 - regression example.ipynb'\"\"\"\n",
        "  \n",
        "  num_val_samples = X_train.shape[0] // k\n",
        "  all_scores = np.zeros(k)\n",
        "  all_mae_histories = []\n",
        "\n",
        "  for i in range(k):\n",
        "      print('processing fold #', i+1)\n",
        "\n",
        "      # Prepare the validation data: data from partition # k\n",
        "      val_data = X_train[i * num_val_samples: (i + 1) * num_val_samples]\n",
        "      val_targets = y_train[i * num_val_samples: (i + 1) * num_val_samples]\n",
        "\n",
        "      # Prepare the training data: data from all other partitions\n",
        "      partial_train_data = np.concatenate(\n",
        "          [X_train[:i * num_val_samples],\n",
        "           X_train[(i + 1) * num_val_samples:]],\n",
        "          axis=0)\n",
        "\n",
        "      partial_train_targets = np.concatenate(\n",
        "          [y_train[:i * num_val_samples],\n",
        "           y_train[(i + 1) * num_val_samples:]],\n",
        "          axis=0)\n",
        "\n",
        "      # Build the Keras model (already compiled)\n",
        "      model = build_model(model_activation, model_layers, model_neurons)\n",
        "\n",
        "      # Train the model (in silent mode, verbose=0)\n",
        "      history = model.fit(partial_train_data, partial_train_targets,\n",
        "                          validation_data=(val_data, val_targets),\n",
        "                          epochs=num_epochs, batch_size=1, verbose=0)\n",
        "\n",
        "      # Evaluate the model on the validation data\n",
        "      val_mse, val_mae = model.evaluate(val_data, val_targets, verbose=0)\n",
        "      all_scores[i] = val_mae\n",
        "      \n",
        "      mae_history = history.history['val_mean_absolute_error']\n",
        "      all_mae_histories.append(mae_history)\n",
        "  \n",
        "  average_mae_history = [\n",
        "      np.mean([x[i] for x in all_mae_histories]) for i in range(num_epochs)]\n",
        "  print(min(average_mae_history))\n",
        "  if history:\n",
        "    return average_mae_history\n",
        "  else:\n",
        "    return all_scores"
      ],
      "execution_count": 0,
      "outputs": []
    },
    {
      "cell_type": "code",
      "metadata": {
        "id": "DA4J6Ce6EW0d",
        "colab_type": "code",
        "colab": {}
      },
      "source": [
        "#function for plotting the curve for results using different number of epochs\n",
        "\n",
        "def plot_epochs(mae_history, title):\n",
        "  plt.plot(range(1, len(mae_history) + 1), mae_history)\n",
        "  plt.title(title)\n",
        "  plt.xlabel('Epochs')\n",
        "  plt.ylabel('Validation MAE')\n",
        "  plt.show()\n",
        "  "
      ],
      "execution_count": 0,
      "outputs": []
    },
    {
      "cell_type": "markdown",
      "metadata": {
        "id": "WKzsYG4zE5z0",
        "colab_type": "text"
      },
      "source": [
        "## result table\n"
      ]
    },
    {
      "cell_type": "code",
      "metadata": {
        "id": "fBpW5B0iEbxr",
        "colab_type": "code",
        "outputId": "da4a1de5-d266-4845-8be5-ee18d75d2a85",
        "colab": {
          "base_uri": "https://localhost:8080/",
          "height": 252
        }
      },
      "source": [
        "#creating a result-table, this doesnt get much use\n",
        "\n",
        "K_fold_results = pd.DataFrame({'Model': ['ReLU','Deep ReLU','selu', 'Deep selu', 'LinReg Quadratic', 'LinReg Cubic'],\n",
        "                      'Validation MAE': np.nan,\n",
        "                      'Hyperparameters': np.nan})\n",
        "K_fold_results.set_index('Model', inplace=True)\n",
        "K_fold_results = K_fold_results[['Validation MAE', 'Hyperparameters']]\n",
        "\n",
        "K_fold_results"
      ],
      "execution_count": 0,
      "outputs": [
        {
          "output_type": "execute_result",
          "data": {
            "text/html": [
              "<div>\n",
              "<style scoped>\n",
              "    .dataframe tbody tr th:only-of-type {\n",
              "        vertical-align: middle;\n",
              "    }\n",
              "\n",
              "    .dataframe tbody tr th {\n",
              "        vertical-align: top;\n",
              "    }\n",
              "\n",
              "    .dataframe thead th {\n",
              "        text-align: right;\n",
              "    }\n",
              "</style>\n",
              "<table border=\"1\" class=\"dataframe\">\n",
              "  <thead>\n",
              "    <tr style=\"text-align: right;\">\n",
              "      <th></th>\n",
              "      <th>Validation MAE</th>\n",
              "      <th>Hyperparameters</th>\n",
              "    </tr>\n",
              "    <tr>\n",
              "      <th>Model</th>\n",
              "      <th></th>\n",
              "      <th></th>\n",
              "    </tr>\n",
              "  </thead>\n",
              "  <tbody>\n",
              "    <tr>\n",
              "      <th>ReLU</th>\n",
              "      <td>NaN</td>\n",
              "      <td>NaN</td>\n",
              "    </tr>\n",
              "    <tr>\n",
              "      <th>Deep ReLU</th>\n",
              "      <td>NaN</td>\n",
              "      <td>NaN</td>\n",
              "    </tr>\n",
              "    <tr>\n",
              "      <th>selu</th>\n",
              "      <td>NaN</td>\n",
              "      <td>NaN</td>\n",
              "    </tr>\n",
              "    <tr>\n",
              "      <th>Deep selu</th>\n",
              "      <td>NaN</td>\n",
              "      <td>NaN</td>\n",
              "    </tr>\n",
              "    <tr>\n",
              "      <th>LinReg Quadratic</th>\n",
              "      <td>NaN</td>\n",
              "      <td>NaN</td>\n",
              "    </tr>\n",
              "    <tr>\n",
              "      <th>LinReg Cubic</th>\n",
              "      <td>NaN</td>\n",
              "      <td>NaN</td>\n",
              "    </tr>\n",
              "  </tbody>\n",
              "</table>\n",
              "</div>"
            ],
            "text/plain": [
              "                  Validation MAE  Hyperparameters\n",
              "Model                                            \n",
              "ReLU                         NaN              NaN\n",
              "Deep ReLU                    NaN              NaN\n",
              "selu                         NaN              NaN\n",
              "Deep selu                    NaN              NaN\n",
              "LinReg Quadratic             NaN              NaN\n",
              "LinReg Cubic                 NaN              NaN"
            ]
          },
          "metadata": {
            "tags": []
          },
          "execution_count": 59
        }
      ]
    },
    {
      "cell_type": "markdown",
      "metadata": {
        "id": "llB3ptr-KNwM",
        "colab_type": "text"
      },
      "source": [
        "## From now I try different activation functions with different depths"
      ]
    },
    {
      "cell_type": "markdown",
      "metadata": {
        "id": "uTHw42OsFZHs",
        "colab_type": "text"
      },
      "source": [
        "## ReLU"
      ]
    },
    {
      "cell_type": "code",
      "metadata": {
        "id": "ZNSbAyj5FgUX",
        "colab_type": "code",
        "outputId": "6ddcb32d-971b-4149-f198-7545f832ffd9",
        "colab": {
          "base_uri": "https://localhost:8080/",
          "height": 508
        }
      },
      "source": [
        "\n",
        "\n",
        "relu_layers = 2\n",
        "relu_neurons = 8\n",
        "relu_history = K_fold(X_train=X_train, y_train=y_train, model_activation='relu', model_layers=relu_layers, model_neurons=relu_neurons, k=10, num_epochs=100, history=True)\n",
        "print(min(relu_history))\n",
        "plot_epochs(relu_history, 'ReLU')"
      ],
      "execution_count": 0,
      "outputs": [
        {
          "output_type": "stream",
          "text": [
            "processing fold # 1\n",
            "processing fold # 2\n",
            "processing fold # 3\n",
            "processing fold # 4\n",
            "processing fold # 5\n",
            "processing fold # 6\n",
            "processing fold # 7\n",
            "processing fold # 8\n",
            "processing fold # 9\n",
            "processing fold # 10\n",
            "173.37423248291014\n",
            "173.37423248291014\n"
          ],
          "name": "stdout"
        },
        {
          "output_type": "display_data",
          "data": {
            "image/png": "[encoded data removed]",
            "text/plain": [
              "<Figure size 432x288 with 1 Axes>"
            ]
          },
          "metadata": {
            "tags": []
          }
        }
      ]
    },
    {
      "cell_type": "markdown",
      "metadata": {
        "id": "9PZ9NXJQKKTM",
        "colab_type": "text"
      },
      "source": [
        "## Deep ReLU"
      ]
    },
    {
      "cell_type": "code",
      "metadata": {
        "id": "MH2tVx2NKNNJ",
        "colab_type": "code",
        "outputId": "b5dd41f8-cccc-4f0e-cc2d-a5e3fb2c8cab",
        "colab": {
          "base_uri": "https://localhost:8080/",
          "height": 491
        }
      },
      "source": [
        "deep_relu_layers = 5\n",
        "deep_relu_neurons = 32\n",
        "deep_relu_history = K_fold(X_train=X_train, y_train=y_train, model_activation='relu', model_layers=deep_relu_layers, model_neurons=deep_relu_neurons, k=10, num_epochs=100, history=True)\n",
        "\n",
        "plot_epochs(deep_relu_history, 'Deep ReLU')"
      ],
      "execution_count": 0,
      "outputs": [
        {
          "output_type": "stream",
          "text": [
            "processing fold # 1\n",
            "processing fold # 2\n",
            "processing fold # 3\n",
            "processing fold # 4\n",
            "processing fold # 5\n",
            "processing fold # 6\n",
            "processing fold # 7\n",
            "processing fold # 8\n",
            "processing fold # 9\n",
            "processing fold # 10\n",
            "63.13377583821615\n"
          ],
          "name": "stdout"
        },
        {
          "output_type": "display_data",
          "data": {
            "image/png": "[encoded data removed]",
            "text/plain": [
              "<Figure size 432x288 with 1 Axes>"
            ]
          },
          "metadata": {
            "tags": []
          }
        }
      ]
    },
    {
      "cell_type": "markdown",
      "metadata": {
        "id": "X9S9lYSzMwh3",
        "colab_type": "text"
      },
      "source": [
        "## Selu"
      ]
    },
    {
      "cell_type": "code",
      "metadata": {
        "id": "HsD4YHEmMyIN",
        "colab_type": "code",
        "outputId": "7a79390a-544d-478f-b792-2653fd1ac252",
        "colab": {
          "base_uri": "https://localhost:8080/",
          "height": 491
        }
      },
      "source": [
        "selu_layers = 2\n",
        "selu_neurons = 8\n",
        "selu_history = K_fold(X_train=X_train, y_train=y_train, model_activation='selu', model_layers=selu_layers, model_neurons=selu_neurons, k=10, num_epochs=100, history=True)\n",
        "\n",
        "plot_epochs(selu_history, 'Selu')"
      ],
      "execution_count": 0,
      "outputs": [
        {
          "output_type": "stream",
          "text": [
            "processing fold # 1\n",
            "processing fold # 2\n",
            "processing fold # 3\n",
            "processing fold # 4\n",
            "processing fold # 5\n",
            "processing fold # 6\n",
            "processing fold # 7\n",
            "processing fold # 8\n",
            "processing fold # 9\n",
            "processing fold # 10\n",
            "52.65763295491537\n"
          ],
          "name": "stdout"
        },
        {
          "output_type": "display_data",
          "data": {
            "image/png": "[encoded data removed]",
            "text/plain": [
              "<Figure size 432x288 with 1 Axes>"
            ]
          },
          "metadata": {
            "tags": []
          }
        }
      ]
    },
    {
      "cell_type": "markdown",
      "metadata": {
        "id": "1n10JgIoOWRu",
        "colab_type": "text"
      },
      "source": [
        "## deep selu\n"
      ]
    },
    {
      "cell_type": "code",
      "metadata": {
        "id": "rO1LpcyJOYjL",
        "colab_type": "code",
        "outputId": "728d2f60-5ed3-4f74-b02d-f0eb76f7e33b",
        "colab": {
          "base_uri": "https://localhost:8080/",
          "height": 491
        }
      },
      "source": [
        "deep_selu_layers = 5\n",
        "deep_selu_neurons = 32\n",
        "deep_selu_history = K_fold(X_train=X_train, y_train=y_train, model_activation='selu', model_layers=deep_selu_layers, model_neurons=deep_selu_neurons, k=10, num_epochs=100, history=True)\n",
        "\n",
        "plot_epochs(deep_selu_history, 'Deep Selu')"
      ],
      "execution_count": 0,
      "outputs": [
        {
          "output_type": "stream",
          "text": [
            "processing fold # 1\n",
            "processing fold # 2\n",
            "processing fold # 3\n",
            "processing fold # 4\n",
            "processing fold # 5\n",
            "processing fold # 6\n",
            "processing fold # 7\n",
            "processing fold # 8\n",
            "processing fold # 9\n",
            "processing fold # 10\n",
            "42.021051025390626\n"
          ],
          "name": "stdout"
        },
        {
          "output_type": "display_data",
          "data": {
            "image/png": "[encoded data removed]",
            "text/plain": [
              "<Figure size 432x288 with 1 Axes>"
            ]
          },
          "metadata": {
            "tags": []
          }
        }
      ]
    },
    {
      "cell_type": "markdown",
      "metadata": {
        "id": "lgFYypUQQGH_",
        "colab_type": "text"
      },
      "source": [
        "## Linear regression"
      ]
    },
    {
      "cell_type": "code",
      "metadata": {
        "id": "lXMs4ksSQJmv",
        "colab_type": "code",
        "colab": {}
      },
      "source": [
        "# Linear\n",
        "LinReg_lin_score = cross_val_score(LinearRegression(), X_train, y_train, cv=5, scoring='neg_mean_absolute_error')\n",
        "K_fold_results.loc['LinReg', :] = [abs(np.mean(LinReg_lin_score)), ' ']\n",
        "\n",
        "# Quadratic\n",
        "X_quad = PolynomialFeatures(degree=2).fit_transform(X_train)\n",
        "LinReg_quad_score = cross_val_score(LinearRegression(), X_quad, y_train, cv=5, scoring='neg_mean_absolute_error')\n",
        "K_fold_results.loc['LinReg Quadratic', :] = [abs(np.mean(LinReg_quad_score)), ' ']\n",
        "\n",
        "# Cubic\n",
        "X_cubic = PolynomialFeatures(degree=3).fit_transform(X_train)\n",
        "LinReg_cub_score = cross_val_score(LinearRegression(), X_cubic, y_train, cv=5, scoring='neg_mean_absolute_error')\n",
        "K_fold_results.loc['LinReg Cubic', :] = [abs(np.mean(LinReg_cub_score)), ' ']"
      ],
      "execution_count": 0,
      "outputs": []
    },
    {
      "cell_type": "code",
      "metadata": {
        "id": "6ElvusM_Qqzk",
        "colab_type": "code",
        "outputId": "e741fb81-03b1-423a-d5d9-bea3ca29fa07",
        "colab": {
          "base_uri": "https://localhost:8080/",
          "height": 284
        }
      },
      "source": [
        "K_fold_results"
      ],
      "execution_count": 0,
      "outputs": [
        {
          "output_type": "execute_result",
          "data": {
            "text/html": [
              "<div>\n",
              "<style scoped>\n",
              "    .dataframe tbody tr th:only-of-type {\n",
              "        vertical-align: middle;\n",
              "    }\n",
              "\n",
              "    .dataframe tbody tr th {\n",
              "        vertical-align: top;\n",
              "    }\n",
              "\n",
              "    .dataframe thead th {\n",
              "        text-align: right;\n",
              "    }\n",
              "</style>\n",
              "<table border=\"1\" class=\"dataframe\">\n",
              "  <thead>\n",
              "    <tr style=\"text-align: right;\">\n",
              "      <th></th>\n",
              "      <th>Validation MAE</th>\n",
              "      <th>Hyperparameters</th>\n",
              "    </tr>\n",
              "    <tr>\n",
              "      <th>Model</th>\n",
              "      <th></th>\n",
              "      <th></th>\n",
              "    </tr>\n",
              "  </thead>\n",
              "  <tbody>\n",
              "    <tr>\n",
              "      <th>ReLU</th>\n",
              "      <td>NaN</td>\n",
              "      <td>NaN</td>\n",
              "    </tr>\n",
              "    <tr>\n",
              "      <th>Deep ReLU</th>\n",
              "      <td>NaN</td>\n",
              "      <td>NaN</td>\n",
              "    </tr>\n",
              "    <tr>\n",
              "      <th>selu</th>\n",
              "      <td>NaN</td>\n",
              "      <td>NaN</td>\n",
              "    </tr>\n",
              "    <tr>\n",
              "      <th>Deep selu</th>\n",
              "      <td>NaN</td>\n",
              "      <td>NaN</td>\n",
              "    </tr>\n",
              "    <tr>\n",
              "      <th>LinReg Quadratic</th>\n",
              "      <td>44.506143</td>\n",
              "      <td></td>\n",
              "    </tr>\n",
              "    <tr>\n",
              "      <th>LinReg Cubic</th>\n",
              "      <td>69.548753</td>\n",
              "      <td></td>\n",
              "    </tr>\n",
              "    <tr>\n",
              "      <th>LinReg</th>\n",
              "      <td>37.116947</td>\n",
              "      <td></td>\n",
              "    </tr>\n",
              "  </tbody>\n",
              "</table>\n",
              "</div>"
            ],
            "text/plain": [
              "                  Validation MAE Hyperparameters\n",
              "Model                                           \n",
              "ReLU                         NaN             NaN\n",
              "Deep ReLU                    NaN             NaN\n",
              "selu                         NaN             NaN\n",
              "Deep selu                    NaN             NaN\n",
              "LinReg Quadratic       44.506143                \n",
              "LinReg Cubic           69.548753                \n",
              "LinReg                 37.116947                "
            ]
          },
          "metadata": {
            "tags": []
          },
          "execution_count": 14
        }
      ]
    },
    {
      "cell_type": "markdown",
      "metadata": {
        "id": "RpaBzeI8SFEm",
        "colab_type": "text"
      },
      "source": [
        "## Setting best models"
      ]
    },
    {
      "cell_type": "code",
      "metadata": {
        "id": "N3XIEuQKRCjs",
        "colab_type": "code",
        "outputId": "267b84b1-9c95-4f16-b2f7-848ad3e7ece7",
        "colab": {
          "base_uri": "https://localhost:8080/",
          "height": 52
        }
      },
      "source": [
        "bestdeep = build_model(act='selu', lay=5, nur=32)\n",
        "bestdeep.fit(X_train, y_train, epochs=49, batch_size=1, verbose=0)\n",
        "\n",
        "#bestdeep.predict(X_test)\n",
        "bestdeep.evaluate(X_test, y_test, batch_size=1)"
      ],
      "execution_count": 0,
      "outputs": [
        {
          "output_type": "stream",
          "text": [
            "180/180 [==============================] - 0s 2ms/step\n"
          ],
          "name": "stdout"
        },
        {
          "output_type": "execute_result",
          "data": {
            "text/plain": [
              "[1374.051100186031, 28.84810528225369]"
            ]
          },
          "metadata": {
            "tags": []
          },
          "execution_count": 18
        }
      ]
    },
    {
      "cell_type": "code",
      "metadata": {
        "id": "2qPaHY_0vny1",
        "colab_type": "code",
        "outputId": "4d071edc-7485-4b22-b250-dcaede9ffa29",
        "colab": {
          "base_uri": "https://localhost:8080/",
          "height": 35
        }
      },
      "source": [
        "bestdeep.metrics_names"
      ],
      "execution_count": 0,
      "outputs": [
        {
          "output_type": "execute_result",
          "data": {
            "text/plain": [
              "['loss', 'mean_absolute_error']"
            ]
          },
          "metadata": {
            "tags": []
          },
          "execution_count": 46
        }
      ]
    },
    {
      "cell_type": "code",
      "metadata": {
        "id": "ll_bGph9VKXE",
        "colab_type": "code",
        "colab": {}
      },
      "source": [
        "bestlin = PolynomialFeatures(degree=3).fit_transform(X_test)\n",
        "lin_score = cross_val_score(LinearRegression(), bestlin, y_test, cv=5, scoring='neg_mean_absolute_error')\n",
        "K_fold_results.loc['LinReg Cubic', :] = [abs(np.mean(lin_score)), ' ']"
      ],
      "execution_count": 0,
      "outputs": []
    },
    {
      "cell_type": "code",
      "metadata": {
        "id": "TmbXwmkBSCtN",
        "colab_type": "code",
        "outputId": "95784fdc-0806-41a4-ce23-020312b3cec9",
        "colab": {
          "base_uri": "https://localhost:8080/",
          "height": 284
        }
      },
      "source": [
        "K_fold_results"
      ],
      "execution_count": 0,
      "outputs": [
        {
          "output_type": "execute_result",
          "data": {
            "text/html": [
              "<div>\n",
              "<style scoped>\n",
              "    .dataframe tbody tr th:only-of-type {\n",
              "        vertical-align: middle;\n",
              "    }\n",
              "\n",
              "    .dataframe tbody tr th {\n",
              "        vertical-align: top;\n",
              "    }\n",
              "\n",
              "    .dataframe thead th {\n",
              "        text-align: right;\n",
              "    }\n",
              "</style>\n",
              "<table border=\"1\" class=\"dataframe\">\n",
              "  <thead>\n",
              "    <tr style=\"text-align: right;\">\n",
              "      <th></th>\n",
              "      <th>Validation MAE</th>\n",
              "      <th>Hyperparameters</th>\n",
              "    </tr>\n",
              "    <tr>\n",
              "      <th>Model</th>\n",
              "      <th></th>\n",
              "      <th></th>\n",
              "    </tr>\n",
              "  </thead>\n",
              "  <tbody>\n",
              "    <tr>\n",
              "      <th>ReLU</th>\n",
              "      <td>NaN</td>\n",
              "      <td>NaN</td>\n",
              "    </tr>\n",
              "    <tr>\n",
              "      <th>Deep ReLU</th>\n",
              "      <td>NaN</td>\n",
              "      <td>NaN</td>\n",
              "    </tr>\n",
              "    <tr>\n",
              "      <th>selu</th>\n",
              "      <td>NaN</td>\n",
              "      <td>NaN</td>\n",
              "    </tr>\n",
              "    <tr>\n",
              "      <th>Deep selu</th>\n",
              "      <td>NaN</td>\n",
              "      <td>NaN</td>\n",
              "    </tr>\n",
              "    <tr>\n",
              "      <th>LinReg Quadratic</th>\n",
              "      <td>48.309287</td>\n",
              "      <td></td>\n",
              "    </tr>\n",
              "    <tr>\n",
              "      <th>LinReg Cubic</th>\n",
              "      <td>49.004899</td>\n",
              "      <td></td>\n",
              "    </tr>\n",
              "    <tr>\n",
              "      <th>LinReg</th>\n",
              "      <td>38.937873</td>\n",
              "      <td></td>\n",
              "    </tr>\n",
              "  </tbody>\n",
              "</table>\n",
              "</div>"
            ],
            "text/plain": [
              "                  Validation MAE Hyperparameters\n",
              "Model                                           \n",
              "ReLU                         NaN             NaN\n",
              "Deep ReLU                    NaN             NaN\n",
              "selu                         NaN             NaN\n",
              "Deep selu                    NaN             NaN\n",
              "LinReg Quadratic       48.309287                \n",
              "LinReg Cubic           49.004899                \n",
              "LinReg                 38.937873                "
            ]
          },
          "metadata": {
            "tags": []
          },
          "execution_count": 79
        }
      ]
    }
  ]
}